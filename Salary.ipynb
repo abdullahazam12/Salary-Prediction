{
  "nbformat": 4,
  "nbformat_minor": 0,
  "metadata": {
    "colab": {
      "provenance": []
    },
    "kernelspec": {
      "name": "python3",
      "display_name": "Python 3"
    },
    "language_info": {
      "name": "python"
    }
  },
  "cells": [
    {
      "cell_type": "code",
      "execution_count": null,
      "metadata": {
        "id": "YPtzaYdxyE-6"
      },
      "outputs": [],
      "source": [
        "# Upload datasets\n",
        "from google.colab import files\n",
        "uploaded_files = files.upload()  # Upload salary_train.csv and salary_test.csv\n",
        "\n",
        "# Import necessary packages\n",
        "import pandas as pd\n",
        "import numpy as np\n",
        "from sklearn.ensemble import RandomForestRegressor, GradientBoostingRegressor, VotingRegressor\n",
        "from sklearn.model_selection import train_test_split\n",
        "from sklearn.metrics import r2_score, mean_squared_error\n",
        "from sklearn.preprocessing import LabelEncoder\n",
        "\n",
        "# Read training and test data\n",
        "train_df = pd.read_csv(\"salary_train.csv\")\n",
        "test_df = pd.read_csv(\"salary_test.csv\")\n",
        "print(f\"Train data: {train_df.shape} | Test data: {test_df.shape}\")\n",
        "\n",
        "# Add source column for later split\n",
        "train_df[\"dataset\"] = \"train\"\n",
        "test_df[\"dataset\"] = \"test\"\n",
        "test_df[\"salary\"] = np.nan  # Needed for alignment\n",
        "\n",
        "# Combine for unified preprocessing\n",
        "full_data = pd.concat([train_df, test_df], axis=0).reset_index(drop=True)\n",
        "\n",
        "# Fill missing values\n",
        "for column in full_data.columns:\n",
        "    if full_data[column].dtype == \"object\":\n",
        "        full_data[column] = full_data[column].fillna(\"NotAvailable\")\n",
        "    else:\n",
        "        full_data[column] = full_data[column].fillna(full_data[column].median())\n",
        "\n",
        "# Encode all categorical features\n",
        "label_encoders = {}\n",
        "object_columns = full_data.select_dtypes(include=\"object\").columns\n",
        "\n",
        "for feature in object_columns:\n",
        "    encoder = LabelEncoder()\n",
        "    full_data[feature] = encoder.fit_transform(full_data[feature].astype(str))\n",
        "    label_encoders[feature] = encoder\n",
        "\n",
        "# Separate the combined data back\n",
        "train_set = full_data[full_data[\"dataset\"] == label_encoders[\"dataset\"].transform([\"train\"])[0]].drop(columns=[\"dataset\"])\n",
        "test_set = full_data[full_data[\"dataset\"] == label_encoders[\"dataset\"].transform([\"test\"])[0]].drop(columns=[\"dataset\", \"salary\"])\n",
        "\n",
        "X_train = train_set.drop(\"salary\", axis=1)\n",
        "y_train = train_set[\"salary\"]\n",
        "\n",
        "# Define and train ensemble model\n",
        "model_rf = RandomForestRegressor(random_state=42)\n",
        "model_gb = GradientBoostingRegressor(random_state=42)\n",
        "voting_model = VotingRegressor(estimators=[(\"rf_model\", model_rf), (\"gb_model\", model_gb)])\n",
        "voting_model.fit(X_train, y_train)\n",
        "\n",
        "# Ensure test set is not empty before predicting\n",
        "if test_set.shape[0] == 0:\n",
        "    raise ValueError(\"⚠️ Test data is empty. Check the contents of 'salary_test.csv'.\")\n",
        "\n",
        "# Generate predictions and save to file\n",
        "test_predictions = voting_model.predict(test_set)\n",
        "output_df = pd.DataFrame({\"PredictedSalary\": test_predictions})\n",
        "output_df.to_csv(\"predicted_salaries.csv\", index=False)\n",
        "\n",
        "print(\"📁 Output file 'predicted_salaries.csv' generated successfully.\")\n",
        "files.download(\"predicted_salaries.csv\")\n"
      ]
    }
  ]
}